{
 "cells": [
  {
   "cell_type": "markdown",
   "metadata": {},
   "source": [
    "# Worksheet 9 solution\n",
    "In this sheet we will work on latent variable methods for density estimation and dimensionality reduction.\n",
    "\n",
    "If you have been finding the datasets in the labs or the group project a bit of a challenge, then this picture may look familiar.\n",
    "\n",
    "![Figure: worksheet datasets versus datasets in the wild](./datasetsWild.jpg)\n"
   ]
  },
  {
   "cell_type": "markdown",
   "metadata": {},
   "source": [
    "## Singular values\n",
    "We first test out our understanding of singular values and condition numbers of matrices. Read the following segment of code."
   ]
  },
  {
   "cell_type": "code",
   "execution_count": 1,
   "metadata": {},
   "outputs": [],
   "source": [
    "import numpy as np\n",
    "import numpy.linalg as la\n",
    "import matplotlib.pyplot as plt\n",
    "\n",
    "\n",
    "E =np.array( [[0.0315,   0.0188,   0.0117,  -0.0919], \\\n",
    "   [-0.0166,   -0.0211,  -0.0106,   0.0550], \\\n",
    "   [-0.2431,   -0.0874,   -0.0666,    0.6705], \\\n",
    "   [-0.2346,   -0.0680,   -0.0574,    0.6348]])"
   ]
  },
  {
   "cell_type": "markdown",
   "metadata": {},
   "source": [
    "Complete the next block so as to compute the singular values of the matrix $E$ and write down the condition number of the matrix. Then add $10^{-4}$ to the diagonal elements of $E$. Write down the new condition number."
   ]
  },
  {
   "cell_type": "code",
   "execution_count": 1,
   "metadata": {},
   "outputs": [],
   "source": [
    "#TODO block 1\n",
    "    \n"
   ]
  },
  {
   "cell_type": "markdown",
   "metadata": {},
   "source": [
    "## Mixture models: 1d example\n",
    "In this section we will look at the basics of fitting a Gaussian mixture model to some one-dimensional data. In the first block of code we create a one-dimensional data of length 10 as a column vector. Read the code carefully so that you understand how the data was created."
   ]
  },
  {
   "cell_type": "code",
   "execution_count": 3,
   "metadata": {},
   "outputs": [],
   "source": [
    "from sklearn import mixture\n",
    "from numpy.random import Generator, PCG64\n",
    "mean = 2\n",
    "sigma = np.sqrt(5)\n",
    "rng = Generator(PCG64(12345))\n",
    "vals = mean + sigma*rng.standard_normal(10)\n",
    "vals[9] = 10\n",
    "\n",
    "vals[:, np.newaxis]\n",
    "vals = vals.reshape(-1, 1)"
   ]
  },
  {
   "cell_type": "markdown",
   "metadata": {},
   "source": [
    "In the following block of code we fit a GMM with 5 components and default parameters (setting the initial random state to ensure that the code is reproducible). The function `score_samples` computes a vector containing the log likelihood of every point in `Z`. More detail can be found in the __[API](https://scikit-learn.org/stable/modules/generated/sklearn.mixture.GaussianMixture.html#sklearn.mixture.GaussianMixture)__"
   ]
  },
  {
   "cell_type": "code",
   "execution_count": 4,
   "metadata": {},
   "outputs": [
    {
     "name": "stdout",
     "output_type": "stream",
     "text": [
      "Log likelihood=[-0.25796444  3.68623396 -2.09328266 -2.03789705 -2.06561938 -1.8056265\n",
      " -0.25789189 -2.41986989 -1.83556017  3.68623155]\n"
     ]
    }
   ],
   "source": [
    "clf = mixture.GaussianMixture(n_components=5, covariance_type='spherical', random_state =1729)\n",
    "clf.fit(vals)\n",
    "\n",
    "Z = clf.score_samples(vals)\n",
    "print('Log likelihood=' + str(Z))"
   ]
  },
  {
   "cell_type": "markdown",
   "metadata": {},
   "source": [
    "In the next block of code, create and fit a GMM with parameters as above but also set the maximum number of iterations to 1000\n",
    "(to ensure that the EM algorithm runs for a long time), the initial centres to [[0], [0.01], [-0.01], [0.0001], [8]], `reg_covar` \n",
    "to 0, and `tol` to `1e-30`. Run the code and write down what happens. Try to explain it. \n",
    "\n",
    "You may find it helpful to consult the __[API for the GaussianMixture](https://scikit-learn.org/stable/modules/generated/sklearn.mixture.GaussianMixture.html#sklearn.mixture.GaussianMixture)__"
   ]
  },
  {
   "cell_type": "code",
   "execution_count": 5,
   "metadata": {},
   "outputs": [],
   "source": [
    "#TODO block 2\n",
    "\n"
   ]
  },
  {
   "cell_type": "markdown",
   "metadata": {},
   "source": []
  },
  {
   "cell_type": "markdown",
   "metadata": {},
   "source": [
    "## Mixture models: experiments with complexity\n",
    "In this section we will investigate how to determine an appropriate complexity for a Gaussian mixture model. First we read in three prepared datasets. You should complete the block with code that reads in `valid_data` to a variable `Xvalid` and `test_data` to a variable `Xtest`. These datasets will be used for training, validation and testing respectively. Each has 200 rows and 4 columns."
   ]
  },
  {
   "cell_type": "code",
   "execution_count": 6,
   "metadata": {},
   "outputs": [],
   "source": [
    "import pandas as pd\n",
    "\n",
    "X = pd.read_csv('./training_data')\n",
    "Xtrain = X.to_numpy()\n",
    "Xtrain = Xtrain[0:201, 1:5]\n",
    "\n",
    "#TODO block 3\n",
    "\n",
    "X = pd.read_csv('./valid_data')\n",
    "Xvalid = X.to_numpy()\n",
    "Xvalid = Xvalid[0:201, 1:5]\n",
    "\n",
    "X = pd.read_csv('./test_data')\n",
    "Xtest = X.to_numpy()\n",
    "Xtest = Xtest[0:201, 1:5]"
   ]
  },
  {
   "cell_type": "markdown",
   "metadata": {},
   "source": [
    "In the next section, you should write code to fit a Gaussian mixture model with each of 1, 2, 3, 4, 5, 6, 7, 8, 9, 10, 20, 30, 40, 50 centres. For each model, compute the total negative log likelihood of the training set and the validation set, and then create a graph with both of these sets of values shown as line graphs. Use `random_start` set to 1729 and spherical covariances: all other parameters should be left with their default values.\n",
    "\n",
    "You may get an error message connected with KMeans; do not worry about this. "
   ]
  },
  {
   "cell_type": "code",
   "execution_count": 2,
   "metadata": {},
   "outputs": [],
   "source": [
    "\n",
    "trainNLL = []\n",
    "validNLL = []\n",
    "\n",
    "#TODO block 3\n",
    "\n"
   ]
  },
  {
   "cell_type": "markdown",
   "metadata": {},
   "source": [
    "Compare the two graphs for the training data and validation respectively. In your judgement, what is the optimal number of components in the GMM?\n",
    "\n",
    "Next, recreate the GMM with the optimal number of components and then use it to score the test data `Xtest`. Plot a histogram of the log likelihoods of the test data (using 20 bins). Write down what you notice about the histogram."
   ]
  },
  {
   "cell_type": "code",
   "execution_count": 3,
   "metadata": {},
   "outputs": [],
   "source": [
    "#TODO block 4\n",
    "\n",
    "\n"
   ]
  },
  {
   "cell_type": "markdown",
   "metadata": {},
   "source": [
    "Finally, find the point with the minimum log likelihood under this GMM. Write down its index in the dataset and the coordinates of the point."
   ]
  },
  {
   "cell_type": "code",
   "execution_count": 4,
   "metadata": {},
   "outputs": [],
   "source": [
    "#TODO block 5\n",
    "\n"
   ]
  },
  {
   "cell_type": "markdown",
   "metadata": {},
   "source": [
    "## GTM experiments\n",
    "There are two Python packages which implement GTM. `ugtm` is the better of the two, but is only moderate in quality (it doesn't include an implementation of magnification factors and the documentation is rather patchy). You should install the package using `pip install`.\n",
    "\n",
    "If you have access and skills in Matlab, I would recommend using the Netlab implementation, which does include more functionality.\n",
    "\n",
    "We start by showing how to initialise and fit a GTM to the same dataset we have been using.\n",
    "\n",
    "The parameters are defined as follows:\n",
    "    \n",
    "* k : int, optional (default = 16)\n",
    "        If k is set to 0, k is computed as sqrt(5*sqrt(n_individuals))+2.\n",
    "        k is the sqrt of the number of GTM nodes.\n",
    "        One of four GTM hyperparameters (k, m, s, regul).\n",
    "        Ex: k = 25 means the GTM will be discretized into a 25x25 grid.\n",
    "* m : int, optional (default = 4)\n",
    "        If m is set to 0, m is computed as sqrt(k).\n",
    "        m is the qrt of the number of RBF centers.\n",
    "        One of four GTM hyperparameters (k, m, s, regul).\n",
    "        Ex: m = 5 means the RBF functions will be arranged on a 5x5 grid.\n",
    "* s : float, optional (default = 0.3)\n",
    "        RBF width factor.\n",
    "        One of four GTM hyperparameters (k, m, s, regul).\n",
    "        Parameter to tune width of RBF functions.\n",
    "        Impacts manifold flexibility.\n",
    "* regul : float, optional (default = 0.1)\n",
    "        One of four GTM hyperparameters (k, m, s, regul).\n",
    "        Regularization coefficient.\n",
    "* random_state : int (default = 1234)\n",
    "        Random state.\n",
    "* niter : int, optional (default = 200)\n",
    "        Number of iterations for EM algorithm.\n",
    "* verbose : bool, optional (default = False)\n",
    "        Verbose mode (outputs loglikelihood values during EM algorithm).\n",
    "* prior : {'estimated', 'equiprobable'}\n",
    "        Type of prior for class map. Use 'estimated' to account for\n",
    "        class imbalance."
   ]
  },
  {
   "cell_type": "code",
   "execution_count": 10,
   "metadata": {},
   "outputs": [
    {
     "data": {
      "text/plain": [
       "Text(0.5, 1.0, 'k=10, m=5')"
      ]
     },
     "execution_count": 10,
     "metadata": {},
     "output_type": "execute_result"
    },
    {
     "data": {
      "image/png": "[encoded data removed]",
      "text/plain": [
       "<Figure size 432x288 with 1 Axes>"
      ]
     },
     "metadata": {
      "needs_background": "light"
     },
     "output_type": "display_data"
    }
   ],
   "source": [
    "import ugtm\n",
    "\n",
    "gtm = ugtm.eGTM( k=10, m=5, s=1, regul=0.5, random_state = 1729 )\n",
    "\n",
    "gtm.fit(Xtrain)\n",
    "\n",
    "points = gtm.transform(Xtest)\n",
    "\n",
    "\n",
    "plt.figure(2)\n",
    "scatterPlot = plt.plot(points[0:200, 0], points[0:200,1], 'b.', markersize=8)\n",
    "plt.title('k=10, m=5')"
   ]
  },
  {
   "cell_type": "markdown",
   "metadata": {},
   "source": [
    "Can you spot any outliers in this plot? \n"
   ]
  },
  {
   "cell_type": "markdown",
   "metadata": {},
   "source": [
    "Next, write some code to create plots for GTMs with k=10 and m = 3, 5, 7, 9, 11. Write down what you notice about these plots."
   ]
  },
  {
   "cell_type": "code",
   "execution_count": 5,
   "metadata": {},
   "outputs": [],
   "source": [
    "#TODO block 6\n"
   ]
  },
  {
   "cell_type": "markdown",
   "metadata": {},
   "source": []
  },
  {
   "cell_type": "markdown",
   "metadata": {},
   "source": [
    "Next, write some code to create plots for GTMs with k = 2, 3, 6, 8, 12 and m = 5. Write down what you notice about these plots."
   ]
  },
  {
   "cell_type": "code",
   "execution_count": 6,
   "metadata": {},
   "outputs": [],
   "source": [
    "#TODO block 7\n",
    "\n"
   ]
  },
  {
   "cell_type": "markdown",
   "metadata": {},
   "source": []
  },
  {
   "cell_type": "markdown",
   "metadata": {},
   "source": [
    "## GTM on digit data\n",
    "In the next block, write some code to fit a GTM to the digit data with k=10 and m=6, and project the data to a variable `embedding`. Write down what you notice about the visualisation plot."
   ]
  },
  {
   "cell_type": "code",
   "execution_count": 7,
   "metadata": {},
   "outputs": [],
   "source": [
    "from sklearn.datasets import load_digits\n",
    "\n",
    "digits = load_digits()\n",
    "\n",
    "#TODO block 8\n",
    "\n",
    "#Plotting code for a good figure.\n",
    "plt.figure(figsize=(12, 12))\n",
    "\n",
    "plt.scatter(embedding[:, 0], embedding[:, 1], c=digits.target, cmap='Spectral', s=5)\n",
    "plt.gca().set_aspect('equal', 'datalim')\n",
    "plt.colorbar(boundaries=np.arange(11)-0.5).set_ticks(np.arange(10))\n",
    "plt.title('GTM projection of the Digits dataset', fontsize=24);"
   ]
  }
 ],
 "metadata": {
  "kernelspec": {
   "display_name": "Python 3 (ipykernel)",
   "language": "python",
   "name": "python3"
  },
  "language_info": {
   "codemirror_mode": {
    "name": "ipython",
    "version": 3
   },
   "file_extension": ".py",
   "mimetype": "text/x-python",
   "name": "python",
   "nbconvert_exporter": "python",
   "pygments_lexer": "ipython3",
   "version": "3.9.7"
  }
 },
 "nbformat": 4,
 "nbformat_minor": 4
}

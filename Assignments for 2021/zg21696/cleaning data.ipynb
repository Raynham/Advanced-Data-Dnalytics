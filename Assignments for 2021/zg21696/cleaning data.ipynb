{
 "cells": [
  {
   "cell_type": "markdown",
   "metadata": {},
   "source": [
    "Cleaning \"by economic activity by age by sex\" table to make it more easily usable in tableau"
   ]
  },
  {
   "cell_type": "code",
   "execution_count": 1,
   "metadata": {},
   "outputs": [
    {
     "name": "stdout",
     "output_type": "stream",
     "text": [
      "(348, 627)\n",
      "['date' 'geography' 'geography code']\n",
      "Sex: All persons; Age: All categories: Age 16 and over; Economic Activity: All categories: Economic activity; measures: Value\n"
     ]
    }
   ],
   "source": [
    "import numpy as np\n",
    "import pandas as pd\n",
    "import re\n",
    "df = pd.read_csv('raw_data/by economic activity by age by sex.csv')\n",
    "df = df.dropna()\n",
    "print(df.shape)\n",
    "raw_columns = df.columns.values\n",
    "print(raw_columns[:3])\n",
    "print(raw_columns[3])"
   ]
  },
  {
   "cell_type": "code",
   "execution_count": 5,
   "metadata": {},
   "outputs": [
    {
     "name": "stdout",
     "output_type": "stream",
     "text": [
      "Sex: All persons; Age: Age 20 to 21; Economic Activity: All categories: Economic activity; measures: Value\n"
     ]
    }
   ],
   "source": [
    "print(raw_columns[35])"
   ]
  },
  {
   "cell_type": "markdown",
   "metadata": {},
   "source": [
    "There are too many columns, I need to deal with it."
   ]
  },
  {
   "cell_type": "code",
   "execution_count": 165,
   "metadata": {},
   "outputs": [
    {
     "name": "stdout",
     "output_type": "stream",
     "text": [
      "['Males', 'Females']\n",
      "['Age 16 to 19', 'Age 20 to 21', 'Age 22 to 24', 'Age 25 to 29', 'Age 30 to 34', 'Age 35 to 39', 'Age 40 to 44', 'Age 45 to 49', 'Age 50 to 54', 'Age 55 to 59', 'Age 60 to 64', 'Age 65 and over']\n",
      "Economically active: In employment: Employee: Part-time (including full-time students)\n",
      "2 12 10\n",
      "Employee: Part-time (including full-time students)\n"
     ]
    }
   ],
   "source": [
    "new_columns = [\"date\", \"geography\", \"geography code\",\n",
    "               \"Sex\", \"Age\", \"Economic Activity\", \"Measure\"]\n",
    "sex_values = []\n",
    "age_values = []\n",
    "economic_values = []\n",
    "for name in raw_columns[3:]:\n",
    "    sex_v = re.search('Sex: (.*?);', name)[1]\n",
    "    age_v = re.search('Age: (.*?);', name)[1]\n",
    "    eco_v = re.search('Economic Activity: (.*?);', name)[1]\n",
    "    if sex_v not in sex_values and sex_v.find(\"All\") == -1 and sex_v.find(\"Total\") == -1:\n",
    "        sex_values.append(sex_v)\n",
    "    if age_v not in age_values and age_v.find(\"All\") == -1 and age_v.find(\"Total\") == -1:\n",
    "        age_values.append(age_v)\n",
    "    if eco_v not in economic_values and eco_v.find(\"All\") == -1 and eco_v.find(\"Total\") == -1:\n",
    "        economic_values.append(eco_v)\n",
    "print(sex_values)\n",
    "print(age_values)\n",
    "print(economic_values[0])\n",
    "cleaned_econmic_values = []\n",
    "for i, econo_value in enumerate(economic_values):\n",
    "    cleaned_econmic_values.append(econo_value.replace(\"In employment: \",\"\").replace(\"Economically inactive: \",\"\").replace(\"Economically active: \",\"\"))\n",
    "for i, age_value in enumerate(age_values):\n",
    "    age_values[i] = age_value.replace(\"Age \",\"\")\n",
    "print(len(sex_values),len(age_values),len(economic_values))\n",
    "print(cleaned_econmic_values[0])"
   ]
  },
  {
   "cell_type": "code",
   "execution_count": 167,
   "metadata": {},
   "outputs": [
    {
     "name": "stdout",
     "output_type": "stream",
     "text": [
      "(83520, 7)\n"
     ]
    }
   ],
   "source": [
    "new_row = []\n",
    "new_data_list = []\n",
    "for i, row in df.iterrows():\n",
    "    for gender in sex_values:\n",
    "        for age in age_values:\n",
    "            for i, economic in enumerate(economic_values):\n",
    "                new_row.extend([row['date'],\n",
    "                                row['geography'],   \n",
    "                                row['geography code'], \n",
    "                                gender,\n",
    "                                age,\n",
    "                                cleaned_econmic_values[i],\n",
    "                                row['Sex: '+gender+'; Age: Age '+age+'; Economic Activity: '+economic+'; measures: Value']])\n",
    "                new_data_list.append(new_row)\n",
    "                new_row = []\n",
    "new_data_list = np.array(new_data_list)\n",
    "print(new_data_list.shape)\n",
    "new_df=pd.DataFrame(data=new_data_list,columns=new_columns)\n",
    "new_df.to_csv(path_or_buf=\"clean_data/cleaned_data_by_economic_age_sex.csv\", index = False)"
   ]
  },
  {
   "cell_type": "markdown",
   "metadata": {},
   "source": [
    "Clean sex by age by XXX.csv"
   ]
  },
  {
   "cell_type": "code",
   "execution_count": 18,
   "metadata": {},
   "outputs": [
    {
     "name": "stdout",
     "output_type": "stream",
     "text": [
      "(105, 60)\n",
      "['date' 'geography' 'geography code']\n",
      "Age: All categories: Age; Sex: Females; measures: Value\n",
      "['Males', 'Females']\n",
      "['Age 0 to 4', 'Age 5 to 9', 'Age 10 to 15', 'Age 16 to 19', 'Age 20 to 24', 'Age 25 to 29', 'Age 30 to 34', 'Age 35 to 39', 'Age 40 to 44', 'Age 45 to 49', 'Age 50 to 54', 'Age 55 to 59', 'Age 60 to 64', 'Age 65 to 69', 'Age 70 to 74', 'Age 75 to 79', 'Age 80 to 84', 'Age 85 and over']\n",
      "2 18\n",
      "(3780, 6)\n"
     ]
    }
   ],
   "source": [
    "df = pd.read_csv('raw_data/sex by age by PA.csv')\n",
    "df = df.dropna()\n",
    "print(df.shape)\n",
    "raw_columns = df.columns.values\n",
    "print(raw_columns[:3])\n",
    "print(raw_columns[5])\n",
    "\n",
    "new_columns = [\"date\", \"geography\", \"geography code\",\n",
    "               \"Sex\", \"Age\", \"Population\"]\n",
    "sex_values = []\n",
    "age_values = []\n",
    "for name in raw_columns[3:]:\n",
    "    sex_v = re.search('Sex: (.*?);', name)[1]\n",
    "    age_v = re.search('Age: (.*?);', name)[1]\n",
    "    if sex_v not in sex_values and sex_v.find(\"All\") == -1 and sex_v.find(\"Total\") == -1:\n",
    "        sex_values.append(sex_v)\n",
    "    if age_v not in age_values and age_v.find(\"All\") == -1 and age_v.find(\"Total\") == -1:\n",
    "        age_values.append(age_v)\n",
    "print(sex_values)\n",
    "print(age_values)\n",
    "for i, age_value in enumerate(age_values):\n",
    "    age_values[i] = age_value.replace(\"Age \",\"\")\n",
    "print(len(sex_values),len(age_values))\n",
    "new_row = []\n",
    "new_data_list = []\n",
    "for i, row in df.iterrows():\n",
    "    for gender in sex_values:\n",
    "        for age in age_values:\n",
    "                new_row.extend([row['date'],\n",
    "                                row['geography'],   \n",
    "                                row['geography code'], \n",
    "                                gender,\n",
    "                                age,\n",
    "                                row['Age: Age '+age+'; Sex: '+gender+'; measures: Value']])\n",
    "                new_data_list.append(new_row)\n",
    "                new_row = []\n",
    "new_data_list = np.array(new_data_list)\n",
    "print(new_data_list.shape)\n",
    "new_df=pd.DataFrame(data=new_data_list,columns=new_columns)\n",
    "new_df.to_csv(path_or_buf=\"clean_data/cleaned_data_by_age_sex_PA.csv\", index = False)"
   ]
  },
  {
   "cell_type": "markdown",
   "metadata": {},
   "source": [
    "Clean economic activity by sex by XXX.csv"
   ]
  },
  {
   "cell_type": "code",
   "execution_count": 5,
   "metadata": {},
   "outputs": [
    {
     "name": "stdout",
     "output_type": "stream",
     "text": [
      "(2269, 58)\n",
      "['date' 'geography' 'geography code' 'Rural Urban']\n",
      "['Males', 'Females']\n",
      "Economically active\n",
      "2 17\n",
      "Economically active\n",
      "(77146, 6)\n"
     ]
    }
   ],
   "source": [
    "df = pd.read_csv('raw_data/economic activity by sex by PD.csv')\n",
    "df = df.dropna()\n",
    "print(df.shape)\n",
    "raw_columns = df.columns.values\n",
    "print(raw_columns[:4])\n",
    "new_columns = [\"date\", \"geography\", \"geography code\",\n",
    "               \"Sex\", \"Economic Activity\", \"Measure\"]\n",
    "sex_values = []\n",
    "economic_values = []\n",
    "# The forth column is Rural/Urban, all values are total. So, they are unusable, remove them.\n",
    "for name in raw_columns[4:]:\n",
    "    sex_v = re.search('Sex: (.*?);', name)[1]\n",
    "    eco_v = re.search('Economic Activity: (.*?);', name)[1]\n",
    "    if sex_v not in sex_values and sex_v.find(\"All\") == -1 and sex_v.find(\"Total\") == -1:\n",
    "        sex_values.append(sex_v)\n",
    "    if eco_v not in economic_values and eco_v.find(\"All\") == -1 and eco_v.find(\"Total\") == -1:\n",
    "        economic_values.append(eco_v)\n",
    "print(sex_values)\n",
    "print(economic_values[0])\n",
    "cleaned_econmic_values = []\n",
    "for i, econo_value in enumerate(economic_values):\n",
    "    cleaned_econmic_values.append(econo_value.replace(\"In employment: \", \"\").replace(\n",
    "        \"Economically inactive: \", \"\").replace(\"Economically active: \", \"\"))\n",
    "print(len(sex_values), len(economic_values))\n",
    "print(cleaned_econmic_values[0])\n",
    "new_row = []\n",
    "new_data_list = []\n",
    "for i, row in df.iterrows():\n",
    "    for gender in sex_values:\n",
    "        for i, economic in enumerate(economic_values):\n",
    "            new_row.extend([row['date'],\n",
    "                            row['geography'],\n",
    "                            row['geography code'],\n",
    "                            gender,\n",
    "                            cleaned_econmic_values[i],\n",
    "                            row['Sex: '+gender+'; Economic Activity: '+economic+'; measures: Value']])\n",
    "            new_data_list.append(new_row)\n",
    "            new_row = []\n",
    "new_data_list = np.array(new_data_list)\n",
    "print(new_data_list.shape)\n",
    "new_df = pd.DataFrame(data=new_data_list, columns=new_columns)\n",
    "new_df.to_csv(path_or_buf=\"clean_data/cleaned_data_by_economic_sex_PD.csv\", index=False)\n"
   ]
  },
  {
   "cell_type": "markdown",
   "metadata": {},
   "source": [
    "Clean hours worked by age by sex by full or part time job type.csv"
   ]
  },
  {
   "cell_type": "code",
   "execution_count": 56,
   "metadata": {},
   "outputs": [
    {
     "name": "stdout",
     "output_type": "stream",
     "text": [
      "(348, 276)\n",
      "['date' 'geography' 'geography code']\n",
      "Sex: All persons; Age: Age 20 to 21; Hours Worked: Part-time: 16 to 30 hours worked; measures: Value\n",
      "['Males', 'Females']\n",
      "['Age 16 to 19', 'Age 20 to 21', 'Age 22 to 24', 'Age 25 to 29', 'Age 30 to 34', 'Age 35 to 39', 'Age 40 to 44', 'Age 45 to 49', 'Age 50 to 54', 'Age 55 to 59', 'Age 60 to 64', 'Age 65 and over']\n",
      "['Part-time', 'Full-time']\n",
      "['15 hours or less worked', '16 to 30 hours worked', '31 to 48 hours worked', '49 or more hours worked']\n",
      "['15 and less', '16 to 30', '31 to 48', '49 and more']\n",
      "['16 to 19', '20 to 21', '22 to 24', '25 to 29', '30 to 34', '35 to 39', '40 to 44', '45 to 49', '50 to 54', '55 to 59', '60 to 64', '65 and over']\n"
     ]
    }
   ],
   "source": [
    "df = pd.read_csv(\n",
    "    'raw_data/hours worked by age by sex by full or part time job type.csv')\n",
    "df = df.dropna()\n",
    "print(df.shape)\n",
    "raw_columns = df.columns.values\n",
    "print(raw_columns[:3])\n",
    "print(raw_columns[20])\n",
    "new_columns = [\"date\", \"geography\", \"geography code\",\n",
    "               \"Sex\", \"Age\", \"job type\", \"Hours Worked\", \"Measure\"]\n",
    "sex_values = []\n",
    "age_values = []\n",
    "type_values = []\n",
    "hours_values = []\n",
    "for name in raw_columns[3:]:\n",
    "    sex_v = re.search('Sex: (.*?);', name)[1]\n",
    "    age_v = re.search('Age: (.*?);', name)[1]\n",
    "    type_v = re.search('Hours Worked: (.*?):', name)[1]\n",
    "    hours_v = re.search(f'{type_v}: (.*?); measures: Value', name)[1]\n",
    "    if sex_v not in sex_values and sex_v.find(\"All\") == -1 and sex_v.find(\"Total\") == -1:\n",
    "        sex_values.append(sex_v)\n",
    "    if age_v not in age_values and age_v.find(\"All\") == -1 and age_v.find(\"Total\") == -1:\n",
    "        age_values.append(age_v)\n",
    "    if type_v not in type_values and type_v.find(\"All\") == -1 and type_v.find(\"Total\") == -1:\n",
    "        type_values.append(type_v)\n",
    "    if hours_v not in hours_values and hours_v.find(\"All\") == -1 and hours_v.find(\"Total\") == -1 and hours_v.find(\"Hours\") == -1:\n",
    "        hours_values.append(hours_v)\n",
    "print(sex_values)\n",
    "print(age_values)\n",
    "print(type_values)\n",
    "print(hours_values)\n",
    "new_hours_values = []\n",
    "for i,hours_v in enumerate(hours_values):\n",
    "    if \"15\" in hours_v:\n",
    "        new_hours_values.append(\"15 and less\")\n",
    "    elif \"16\" in hours_v:\n",
    "        new_hours_values.append(\"16 to 30\")\n",
    "    elif \"31\" in hours_v:\n",
    "        new_hours_values.append(\"31 to 48\")\n",
    "    elif \"49\" in hours_v:\n",
    "        new_hours_values.append(\"49 and more\")\n",
    "for i, age_value in enumerate(age_values):\n",
    "    age_values[i] = age_value.replace(\"Age \",\"\")\n",
    "print(new_hours_values)\n",
    "print(age_values)"
   ]
  },
  {
   "cell_type": "code",
   "execution_count": 62,
   "metadata": {},
   "outputs": [
    {
     "name": "stdout",
     "output_type": "stream",
     "text": [
      "(66816, 8)\n"
     ]
    }
   ],
   "source": [
    "new_row = []\n",
    "new_data_list = []\n",
    "for i, row in df.iterrows():\n",
    "    for gender in sex_values:\n",
    "        for age in age_values:\n",
    "            for job_type in type_values:\n",
    "                for i, hours in enumerate(hours_values):\n",
    "                    if 'Sex: '+gender+'; Age: Age '+age+'; Hours Worked: '+job_type+': '+hours+'; measures: Value' not in raw_columns:\n",
    "                        measure_value = 0\n",
    "                    else:\n",
    "                        measure_value = row['Sex: '+gender+'; Age: Age '+age+'; Hours Worked: '+job_type+': '+hours+'; measures: Value']\n",
    "                    new_row.extend([row['date'],\n",
    "                                    row['geography'],\n",
    "                                    row['geography code'],\n",
    "                                    gender,\n",
    "                                    age,\n",
    "                                    job_type,\n",
    "                                    new_hours_values[i],\n",
    "                                    measure_value])\n",
    "                    new_data_list.append(new_row)\n",
    "                    new_row = []\n",
    "new_data_list = np.array(new_data_list)\n",
    "print(new_data_list.shape)\n",
    "new_df = pd.DataFrame(data=new_data_list, columns=new_columns)\n",
    "new_df.to_csv(\n",
    "    path_or_buf=\"clean_data/cleaned_data_by_hours_age_sex.csv\", index=False)\n"
   ]
  },
  {
   "cell_type": "markdown",
   "metadata": {},
   "source": [
    "Clean Provision of unpaid care by general health by sex by age.csv"
   ]
  },
  {
   "cell_type": "code",
   "execution_count": 5,
   "metadata": {},
   "outputs": [
    {
     "name": "stdout",
     "output_type": "stream",
     "text": [
      "(348, 363)\n",
      "['date' 'geography' 'geography code']\n",
      "Sex: All persons; Age: All categories: Age; Carer: Provides 20 to 49 hours unpaid care a week; General Health: Very good or good health; measures: Value\n",
      "['Males', 'Females']\n",
      "['Age 0 to 24', 'Age 25 to 49', 'Age 50 to 64', 'Age 65 and over']\n",
      "['Provides 1 to 19 hours unpaid care a week', 'Provides 20 to 49 hours unpaid care a week', 'Provides 50 or more hours unpaid care a week']\n",
      "['1 to 19', '20 to 49', '50 and more']\n",
      "['0 to 24', '25 to 49', '50 to 64', '65 and over']\n"
     ]
    }
   ],
   "source": [
    "df = pd.read_csv(\n",
    "    'raw_data/Provision of unpaid care by general health by sex by age.csv')\n",
    "df = df.dropna()\n",
    "print(df.shape)\n",
    "raw_columns = df.columns.values\n",
    "print(raw_columns[:3])\n",
    "print(raw_columns[20])\n",
    "new_columns = [\"date\", \"geography\", \"geography code\",\n",
    "               \"Sex\", \"Age\", \"unpaid care hours\",\"Measure\"]\n",
    "sex_values = []\n",
    "age_values = []\n",
    "carer_values = []\n",
    "for name in raw_columns[3:]:\n",
    "    sex_v = re.search('Sex: (.*?);', name)[1]\n",
    "    age_v = re.search('Age: (.*?);', name)[1]\n",
    "    carer_v = re.search('Carer: (.*?);', name)[1]\n",
    "    if sex_v not in sex_values and sex_v.find(\"All\") == -1 and sex_v.find(\"Total\") == -1:\n",
    "        sex_values.append(sex_v)\n",
    "    if age_v not in age_values and age_v.find(\"All\") == -1 and age_v.find(\"Total\") == -1:\n",
    "        age_values.append(age_v)\n",
    "    if carer_v not in carer_values and carer_v.find(\"All\") == -1 and carer_v.find(\"Total\") == -1:\n",
    "        carer_values.append(carer_v)\n",
    "print(sex_values)\n",
    "print(age_values)\n",
    "carer_values = carer_values[1:]\n",
    "print(carer_values)\n",
    "new_carer_values = []\n",
    "for i,carer_v in enumerate(carer_values):\n",
    "    if \"1\" in carer_v:\n",
    "        new_carer_values.append(\"1 to 19\")\n",
    "    elif \"20\" in carer_v:\n",
    "        new_carer_values.append(\"20 to 49\")\n",
    "    elif \"50\" in carer_v:\n",
    "        new_carer_values.append(\"50 and more\")\n",
    "for i, age_value in enumerate(age_values):\n",
    "    age_values[i] = age_value.replace(\"Age \",\"\")\n",
    "print(new_carer_values)\n",
    "print(age_values)"
   ]
  },
  {
   "cell_type": "code",
   "execution_count": 6,
   "metadata": {},
   "outputs": [
    {
     "name": "stdout",
     "output_type": "stream",
     "text": [
      "(8352, 7)\n"
     ]
    }
   ],
   "source": [
    "new_row = []\n",
    "new_data_list = []\n",
    "for i, row in df.iterrows():\n",
    "    for gender in sex_values:\n",
    "        for age in age_values:\n",
    "                for i, carer in enumerate(carer_values):\n",
    "                    measure_value = row['Sex: '+gender+'; Age: Age '+age+'; Carer: '+carer+'; General Health: All categories: General health; measures: Value']\n",
    "                    new_row.extend([row['date'],\n",
    "                                    row['geography'],\n",
    "                                    row['geography code'],\n",
    "                                    gender,\n",
    "                                    age,\n",
    "                                    new_carer_values[i],\n",
    "                                    measure_value])\n",
    "                    new_data_list.append(new_row)\n",
    "                    new_row = []\n",
    "new_data_list = np.array(new_data_list)\n",
    "print(new_data_list.shape)\n",
    "new_df = pd.DataFrame(data=new_data_list, columns=new_columns)\n",
    "new_df.to_csv(\n",
    "    path_or_buf=\"clean_data/cleaned_data_by_unpaid_care_hours_age_sex.csv\", index=False)\n"
   ]
  },
  {
   "cell_type": "markdown",
   "metadata": {},
   "source": [
    "Clean by economic activity by migration.csv, just leave net migration data"
   ]
  },
  {
   "cell_type": "code",
   "execution_count": 33,
   "metadata": {},
   "outputs": [
    {
     "name": "stdout",
     "output_type": "stream",
     "text": [
      "(406, 183)\n",
      "['Economically active: In employment: Full-time employment: Total', 'Economically active: In employment: Part-time employment: Total', 'Economically active: Unemployed and not full-time student', 'Economically active: Unemployed and full-time student', 'Economically inactive: Retired', 'Economically inactive: Student (including full-time students)', 'Economically inactive: Looking after home or family', 'Economically inactive: Long-term sick or disabled', 'Economically inactive: Other']\n",
      "['Full-time employment', 'Part-time employment', 'Unemployed and not full-time student', 'Unemployed and full-time student', 'Retired', 'Student (including full-time students)', 'Looking after home or family', 'Long-term sick or disabled', 'Other']\n"
     ]
    }
   ],
   "source": [
    "df = pd.read_csv(\n",
    "    'raw_data/by economic activity by migration.csv')\n",
    "df = df.dropna()\n",
    "print(df.shape)\n",
    "raw_columns = df.columns.values\n",
    "new_columns = [\"date\", \"geography\", \"geography code\",\n",
    "               \"Economic Activity\",\"Measure\"]\n",
    "economic_values = []\n",
    "for name in raw_columns[3:]:\n",
    "    eco_v = re.search('Economic Activity: (.*?);', name)[1]\n",
    "    if eco_v not in economic_values and (eco_v.find(\"Full-time employment: Total\") !=-1  or  eco_v.find(\"Part-time employment: Total\") != -1):\n",
    "        economic_values.append(eco_v)\n",
    "    if eco_v not in economic_values and eco_v.find(\"All\") == -1 and eco_v.find(\"Total\") == -1 and eco_v.find(\"-time employment and not full-time student\") == -1 and eco_v.find(\"-time employment and full-time student\")== -1:\n",
    "        economic_values.append(eco_v)\n",
    "cleaned_econmic_values = []\n",
    "for i, econo_value in enumerate(economic_values):\n",
    "    cleaned_econmic_values.append(econo_value.replace(\"In employment: \",\"\").replace(\"Economically inactive: \",\"\").replace(\"Economically active: \",\"\").replace(\": Total\",\"\"))\n",
    "print(economic_values)\n",
    "print(cleaned_econmic_values)"
   ]
  },
  {
   "cell_type": "code",
   "execution_count": 35,
   "metadata": {},
   "outputs": [
    {
     "name": "stdout",
     "output_type": "stream",
     "text": [
      "(3654, 5)\n"
     ]
    }
   ],
   "source": [
    "new_row = []\n",
    "new_data_list = []\n",
    "for i, row in df.iterrows():\n",
    "    for i, economic in enumerate(economic_values):\n",
    "        new_row.extend([row['date'],\n",
    "                        row['geography'],\n",
    "                        row['geography code'],\n",
    "                        cleaned_econmic_values[i],\n",
    "                        row['Economic Activity: '+economic+'; Migration: Net migration within the UK'+'; measures: Value']])\n",
    "        new_data_list.append(new_row)\n",
    "        new_row = []\n",
    "new_data_list = np.array(new_data_list)\n",
    "print(new_data_list.shape)\n",
    "new_df = pd.DataFrame(data=new_data_list, columns=new_columns)\n",
    "new_df.to_csv(\n",
    "    path_or_buf=\"clean_data/cleaned_data_by_economic_activity_net_migration.csv\", index=False)\n"
   ]
  }
 ],
 "metadata": {
  "interpreter": {
   "hash": "db6dbd6af82c8a65067133132fa7cc8afd2d273c6e54b5cae29f2d55acec71c4"
  },
  "kernelspec": {
   "display_name": "Python 3.10.2 64-bit",
   "language": "python",
   "name": "python3"
  },
  "language_info": {
   "codemirror_mode": {
    "name": "ipython",
    "version": 3
   },
   "file_extension": ".py",
   "mimetype": "text/x-python",
   "name": "python",
   "nbconvert_exporter": "python",
   "pygments_lexer": "ipython3",
   "version": "3.10.2"
  },
  "orig_nbformat": 4
 },
 "nbformat": 4,
 "nbformat_minor": 2
}

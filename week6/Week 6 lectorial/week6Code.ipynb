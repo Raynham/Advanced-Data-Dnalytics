{
 "cells": [
  {
   "cell_type": "markdown",
   "id": "c06892f4",
   "metadata": {},
   "source": [
    "# Week 6 Lectorial Exercises"
   ]
  },
  {
   "cell_type": "markdown",
   "id": "070caaf0",
   "metadata": {},
   "source": [
    "Generate and print 5 integers between 0 and 10 from a numpy random number generator after setting its seed."
   ]
  },
  {
   "cell_type": "code",
   "execution_count": 17,
   "id": "b97cb644",
   "metadata": {},
   "outputs": [
    {
     "data": {
      "text/plain": [
       "array([7, 0, 3, 1, 7], dtype=int64)"
      ]
     },
     "execution_count": 17,
     "metadata": {},
     "output_type": "execute_result"
    }
   ],
   "source": [
    "# Code block 1\n",
    "import numpy as np\n",
    "\n",
    "rseed = 1729\n",
    "rng = np.random.default_rng(seed = rseed)\n",
    "# Your code here\n",
    "rng.integers(low=0, high=10, size=5)"
   ]
  },
  {
   "cell_type": "markdown",
   "id": "ec92b190",
   "metadata": {},
   "source": [
    "Now generate 5 more integers and print them. Now create a random number generator with the same seed as above and generate 5 integers and print them. What do you notice?\n"
   ]
  },
  {
   "cell_type": "code",
   "execution_count": 21,
   "id": "e9618281",
   "metadata": {},
   "outputs": [
    {
     "name": "stdout",
     "output_type": "stream",
     "text": [
      "[2 0 5 5 8]\n"
     ]
    },
    {
     "data": {
      "text/plain": [
       "array([7, 0, 3, 1, 7], dtype=int64)"
      ]
     },
     "execution_count": 21,
     "metadata": {},
     "output_type": "execute_result"
    }
   ],
   "source": [
    "# Code block 2\n",
    "print(rng.integers(low=0, high=10, size=5))\n",
    "rseed = 1729\n",
    "rng = np.random.default_rng(seed = rseed)\n",
    "# Your code here\n",
    "rng.integers(low=0, high=10, size=5)"
   ]
  },
  {
   "cell_type": "markdown",
   "id": "52ec8f40",
   "metadata": {},
   "source": [
    "Your answer here."
   ]
  },
  {
   "cell_type": "markdown",
   "id": "a56dd2ca",
   "metadata": {},
   "source": [
    "Now let us consider the **period** of a random number generator. This is the number of integers it generates until it repeats in a cycle.\n",
    "\n",
    "Run the following code fragment and write down what you notice. Look at the code in `not_so_random` and explain why you have got your result. Note that the modulus in this random number generator is 13 so we would hope to have a period of 12 (0 is disallowed as usual)."
   ]
  },
  {
   "cell_type": "code",
   "execution_count": 38,
   "id": "43452c91",
   "metadata": {},
   "outputs": [
    {
     "name": "stdout",
     "output_type": "stream",
     "text": [
      "[4, 12, 10, 4, 12, 10, 4, 12, 10, 4, 12, 10, 4, 12, 10, 4, 12, 10, 4, 12, 10, 4, 12, 10, 4, 12]\n"
     ]
    }
   ],
   "source": [
    "import not_so_random \n",
    "\n",
    "nsr = not_so_random.NotSoRandom()\n",
    "nsr.seed(10) \n",
    "print([nsr.random() for _ in  range(26)])"
   ]
  },
  {
   "cell_type": "markdown",
   "id": "96371b4f",
   "metadata": {},
   "source": [
    "Your answer here."
   ]
  },
  {
   "cell_type": "markdown",
   "id": "01a6118a",
   "metadata": {},
   "source": [
    "Now try running the code with other seeds. What do you notice?"
   ]
  },
  {
   "cell_type": "markdown",
   "id": "310c2da4",
   "metadata": {},
   "source": [
    "Your answer here."
   ]
  },
  {
   "cell_type": "markdown",
   "id": "85cf0b90",
   "metadata": {},
   "source": [
    "Now let us look at generating correlated data from a Gaussian distribution with two variables. This is quite easy using numpy's function `random.multivariate_normal`. (I have used a correlation matrix for the sake of simplicity, but it is not much harder to create a covariance matrix for full generality)."
   ]
  },
  {
   "cell_type": "code",
   "execution_count": 39,
   "id": "d76f61df",
   "metadata": {},
   "outputs": [],
   "source": [
    "corr = np.array([[1., -0.40],\n",
    "...                  [-0.40, 1.]])\n",
    "\n",
    "mean = np.array([2., 0.5])\n",
    "\n",
    "#Your code here: don't forget to set the seed first\n",
    "rng = np.random.default_rng(rseed)\n",
    "data = np.random.multivariate_normal(mean=mean, cov=corr, size=500)"
   ]
  },
  {
   "cell_type": "markdown",
   "id": "d37833bf",
   "metadata": {},
   "source": [
    "Now we can check on the result: compute the mean and correlation of the data and explain what you see."
   ]
  },
  {
   "cell_type": "code",
   "execution_count": 54,
   "id": "adbe4ec0",
   "metadata": {},
   "outputs": [
    {
     "name": "stdout",
     "output_type": "stream",
     "text": [
      "[1.9964535  0.51490005]\n",
      "[[ 1.         -0.47295158]\n",
      " [-0.47295158  1.        ]]\n"
     ]
    }
   ],
   "source": [
    "# Your code here\n",
    "print(data.mean(axis=0))\n",
    "print(np.corrcoef(data,rowvar=False))\n"
   ]
  },
  {
   "cell_type": "markdown",
   "id": "19a0de38",
   "metadata": {},
   "source": [
    "Your answer here."
   ]
  }
 ],
 "metadata": {
  "kernelspec": {
   "display_name": "Python 3 (ipykernel)",
   "language": "python",
   "name": "python3"
  },
  "language_info": {
   "codemirror_mode": {
    "name": "ipython",
    "version": 3
   },
   "file_extension": ".py",
   "mimetype": "text/x-python",
   "name": "python",
   "nbconvert_exporter": "python",
   "pygments_lexer": "ipython3",
   "version": "3.10.2"
  }
 },
 "nbformat": 4,
 "nbformat_minor": 5
}
